{
 "cells": [
  {
   "cell_type": "code",
   "execution_count": 2,
   "metadata": {
    "cell_id": "b7aff874a06748f1ba18d353ce077086",
    "deepnote_cell_height": 1200,
    "deepnote_cell_type": "code",
    "deepnote_output_heights": [
     233,
     233,
     233
    ],
    "deepnote_to_be_reexecuted": false,
    "execution_millis": 1320,
    "execution_start": 1656364469478,
    "is_output_hidden": false,
    "source_hash": "db1eceab",
    "tags": []
   },
   "outputs": [],
   "source": [
    "import torchvision\n",
    "import torch\n",
    "import torch.nn as nn\n",
    "import torch.optim as optim\n",
    "import cv2\n",
    "import numpy as np\n",
    "import time\n",
    "import matplotlib.pyplot as plt\n",
    "import pandas as pd\n",
    "import seaborn as sns\n",
    "import math\n",
    "import os\n",
    "\n",
    "from torchvision import transforms\n",
    "from torch.utils.data import TensorDataset, DataLoader, Dataset\n",
    "from sklearn.model_selection import train_test_split\n",
    "from PIL import Image\n",
    "from sklearn.metrics import confusion_matrix\n",
    "from sklearn.metrics import f1_score, accuracy_score\n",
    "from imblearn.metrics import sensitivity_score, specificity_score"
   ]
  },
  {
   "cell_type": "markdown",
   "metadata": {},
   "source": [
    "## Utils"
   ]
  },
  {
   "cell_type": "code",
   "execution_count": 3,
   "metadata": {
    "cell_id": "69664bbe1e4d4210bbf023c99c19e4ff",
    "deepnote_cell_height": 219.6875,
    "deepnote_cell_type": "code",
    "deepnote_to_be_reexecuted": false,
    "execution_millis": 17,
    "execution_start": 1656364472874,
    "source_hash": "a836a851",
    "tags": []
   },
   "outputs": [
    {
     "name": "stdout",
     "output_type": "stream",
     "text": [
      "['angry', 'disgust', 'fear', 'happy', 'neutral', 'sad', 'surprise']\n"
     ]
    }
   ],
   "source": [
    "# folder = \"CK+\"\n",
    "folder = \"images/train\"\n",
    "expressions = os.listdir(folder)\n",
    "sizes = [48, 128, 224]\n",
    "if 'contempt' in expressions:\n",
    "    expressions.remove('contempt')\n",
    "print(expressions)"
   ]
  },
  {
   "cell_type": "code",
   "execution_count": 4,
   "metadata": {
    "cell_id": "a258cce429aa4183b912d04d74ee9f5e",
    "deepnote_cell_height": 201.6875,
    "deepnote_cell_type": "code",
    "deepnote_to_be_reexecuted": false,
    "execution_millis": 110,
    "execution_start": 1656364474759,
    "source_hash": "22eba115",
    "tags": []
   },
   "outputs": [
    {
     "name": "stdout",
     "output_type": "stream",
     "text": [
      "{'angry': 0, 'disgust': 1, 'fear': 2, 'happy': 3, 'neutral': 4, 'sad': 5, 'surprise': 6}\n",
      "{0: 'angry', 1: 'disgust', 2: 'fear', 3: 'happy', 4: 'neutral', 5: 'sad', 6: 'surprise'}\n"
     ]
    }
   ],
   "source": [
    "class_id = {}\n",
    "id_class = {}\n",
    "cont = 0\n",
    "for expression in expressions:\n",
    "    class_id[expression] = cont\n",
    "    id_class[cont] = expression\n",
    "    cont += 1\n",
    "print(class_id)\n",
    "print(id_class)"
   ]
  },
  {
   "cell_type": "code",
   "execution_count": 5,
   "metadata": {
    "cell_id": "9d7a885fb59346fc8ff774138b5575c2",
    "deepnote_cell_height": 357.5625,
    "deepnote_cell_type": "code",
    "deepnote_to_be_reexecuted": false,
    "execution_millis": 823,
    "execution_start": 1656364476902,
    "source_hash": "a4c9b549",
    "tags": []
   },
   "outputs": [
    {
     "name": "stdout",
     "output_type": "stream",
     "text": [
      "angry 3993\n",
      "disgust 436\n",
      "fear 4103\n",
      "happy 7164\n",
      "neutral 4982\n",
      "sad 4938\n",
      "surprise 3205\n",
      "Total:  28821\n"
     ]
    }
   ],
   "source": [
    "suma = 0\n",
    "for expression in expressions:\n",
    "    path = folder+\"/\"+expression\n",
    "    images = os.listdir(path)\n",
    "    print(expression, len(images))\n",
    "    suma += len(images)\n",
    "    id_class[len(images)] = expression\n",
    "print(\"Total: \", suma)"
   ]
  },
  {
   "cell_type": "code",
   "execution_count": 6,
   "metadata": {
    "cell_id": "a032ab869d154f3c96a04555d1f9dd9a",
    "deepnote_cell_height": 1213.734375,
    "deepnote_cell_type": "code",
    "deepnote_to_be_reexecuted": false,
    "execution_millis": 224991,
    "execution_start": 1656364479818,
    "source_hash": "795c977e",
    "tags": []
   },
   "outputs": [
    {
     "name": "stdout",
     "output_type": "stream",
     "text": [
      "angry\n",
      "disgust\n",
      "fear\n",
      "happy\n",
      "neutral\n",
      "sad\n",
      "surprise\n"
     ]
    }
   ],
   "source": [
    "face_cascade = cv2.CascadeClassifier(cv2.data.haarcascades + 'haarcascade_frontalface_default.xml')\n",
    "\n",
    "# list_img_48 = [[[[]]]]\n",
    "list_img_128 = [[[[]]]]\n",
    "list_img_224 = [[[[]]]]\n",
    "y = []\n",
    "\n",
    "for expression in expressions:\n",
    "    path = folder+\"/\"+expression\n",
    "    images = os.listdir(path)\n",
    "    print(expression)\n",
    "    for i in range(len(images)):\n",
    "        image = images[i]\n",
    "        img = cv2.imread(path+\"/\"+image)\n",
    "\n",
    "        # COMENTAR ESTE BLOQUE EN CASO DE CORRER EL PRIMER DATASET\n",
    "        if i == 200:\n",
    "            break\n",
    "        cropped_image = img\n",
    "        # FIN DEL COMENTARIO\n",
    "        \n",
    "        # COMENTAR ESTE BLOQUE EN CASO DE CORRER EL SEGUNDO DATASET\n",
    "        # grayscale_image = cv2.cvtColor(img, cv2.COLOR_BGR2GRAY)\n",
    "\n",
    "        # column, row, width, height = face_cascade.detectMultiScale(grayscale_image)[0]\n",
    "        # cropped_image = img[row:(row+height), column:(column+width)]\n",
    "        # FIN DEL COMENTARIO\n",
    "\n",
    "        # resize_img = cv2.resize(cropped_image, (sizes[0], sizes[0]))\n",
    "        # if len(list_img_48[0][0][0]) == 0:\n",
    "        #     list_img_48[0] = resize_img\n",
    "        # else:\n",
    "        #     list_img_48.append(resize_img)\n",
    "\n",
    "        resize_img = cv2.resize(cropped_image, (sizes[1], sizes[1]))\n",
    "        if len(list_img_128[0][0][0]) == 0:\n",
    "            list_img_128[0] = resize_img\n",
    "        else:\n",
    "            list_img_128.append(resize_img)\n",
    "\n",
    "        resize_img = cv2.resize(cropped_image, (sizes[2], sizes[2]))\n",
    "        if len(list_img_224[0][0][0]) == 0:\n",
    "            list_img_224[0] = resize_img\n",
    "        else:\n",
    "            list_img_224.append(resize_img)\n",
    "\n",
    "        y.append(class_id[expression])\n",
    "    # print(len(y), len(list_img_224))"
   ]
  },
  {
   "cell_type": "code",
   "execution_count": 25,
   "metadata": {},
   "outputs": [],
   "source": [
    "class MyDataset(Dataset):\n",
    "    def __init__(self, list_IDs, labels):\n",
    "        self.labels = labels\n",
    "        self.list_IDs = list_IDs\n",
    "\n",
    "    def __len__(self):\n",
    "        return len(self.list_IDs)\n",
    "\n",
    "    def __getitem__(self, index):\n",
    "        # Select sample\n",
    "        ID = self.list_IDs[index]\n",
    "\n",
    "        # Load data and get label\n",
    "        preprocess = transforms.Compose([\n",
    "                transforms.ToTensor(),\n",
    "                transforms.Normalize(mean=[0.485, 0.456, 0.406], std=[0.229, 0.224, 0.225])\n",
    "                # transforms.CenterCrop(224)\n",
    "                # transforms.RandomHorizontalFlip()\n",
    "        ])\n",
    "        X = preprocess(Image.fromarray(ID))\n",
    "        y = self.labels[index]\n",
    "        return X, y"
   ]
  },
  {
   "cell_type": "code",
   "execution_count": 8,
   "metadata": {},
   "outputs": [],
   "source": [
    "def train(model, optimizer, loss_fn, num_epochs):\n",
    "  # train the model\n",
    "  list_loss_train = []\n",
    "  list_loss_test = []\n",
    "\n",
    "  beg = time.time()\n",
    "  for epoch in range(num_epochs):\n",
    "    for i, (images, labels) in enumerate(train_loader):\n",
    "      images = images.to(device)\n",
    "      labels = labels.to(device)\n",
    "      # forward \n",
    "      output = model(images)\n",
    "      loss   = loss_fn(output, labels)\n",
    "      # change the params\n",
    "      optimizer.zero_grad()\n",
    "      loss.backward()\n",
    "      optimizer.step()\n",
    "\n",
    "    list_loss_train.append(loss.item())\n",
    "\n",
    "    print ('Epoch [{}/{}], Loss: {:.4f}' \n",
    "          .format(epoch+1, num_epochs, loss.item()))\n",
    "    \n",
    "  end = time.time()\n",
    "  print('Finished training trainset in {} seconds'.format(round(end-beg, 2)))\n",
    "\n",
    "  return list_loss_train"
   ]
  },
  {
   "cell_type": "code",
   "execution_count": 9,
   "metadata": {},
   "outputs": [],
   "source": [
    "def test(model):\n",
    "    with torch.no_grad():\n",
    "        correct: int = 0\n",
    "        total: int = 0\n",
    "        y_pred: list = []\n",
    "        y_test: list = []\n",
    "        for images, labels in test_loader:\n",
    "            images = images.to(device)\n",
    "            labels = labels.to(device)\n",
    "            outputs = model(images)\n",
    "            _, predicted = torch.max(outputs.data, 1)\n",
    "            total += labels.size(0)\n",
    "            correct += (predicted == labels).sum().item()\n",
    "            y_pred.extend((predicted).tolist())\n",
    "            y_test.extend((labels).tolist())\n",
    "        accuracy: float = 100*correct/total\n",
    "        matrix = confusion_matrix(y_test, y_pred)\n",
    "        df = pd.DataFrame(matrix, index=expressions, columns=expressions)\n",
    "        sns.heatmap(df, annot=True, cbar=None, cmap=\"Greens\")\n",
    "        plt.title(\"Confusion Matrix\"), plt.tight_layout()\n",
    "        plt.xlabel(\"Predicted\")\n",
    "        plt.ylabel(\"Real\")\n",
    "        plt.show()\n",
    "        print(\"Sensitivity\")\n",
    "        print(round(100*sensitivity_score(y_test, y_pred, average = 'macro'), 2))\n",
    "        print(\"Specificity\")\n",
    "        print(round(100*specificity_score(y_test, y_pred, average = 'macro'), 2))\n",
    "        print(\"F1-score\")\n",
    "        print(round(100*f1_score(y_test, y_pred, average = 'macro'), 2))\n",
    "        print(\"Accuracy\")\n",
    "        print(round(100*accuracy_score(y_test, y_pred), 2))\n"
   ]
  },
  {
   "cell_type": "code",
   "execution_count": 10,
   "metadata": {},
   "outputs": [],
   "source": [
    "num_epochs = 50\n",
    "loss_fn = nn.CrossEntropyLoss()"
   ]
  },
  {
   "cell_type": "markdown",
   "metadata": {},
   "source": [
    "## ALEXNET"
   ]
  },
  {
   "cell_type": "code",
   "execution_count": 24,
   "metadata": {},
   "outputs": [],
   "source": [
    "x = list_img_128\n",
    "x_train, x_test, y_train, y_test = train_test_split(x, y, test_size=0.2, stratify=y)\n",
    "\n",
    "tensor_y_train = torch.as_tensor(y_train)\n",
    "tensor_y_test = torch.as_tensor(y_test)\n",
    "\n",
    "batch_size = 64\n",
    "data_train = MyDataset(x_train, tensor_y_train)\n",
    "data_test = MyDataset(x_test, tensor_y_test)\n",
    "train_loader = DataLoader(dataset=data_train, batch_size=batch_size, shuffle=True)\n",
    "test_loader = DataLoader(dataset=data_test, batch_size=batch_size, shuffle=False)"
   ]
  },
  {
   "cell_type": "code",
   "execution_count": null,
   "metadata": {},
   "outputs": [],
   "source": [
    "alexnet = torchvision.models.alexnet(pretrained=True)\n",
    "for e in alexnet.parameters():\n",
    "   e.requires_grad = False\n",
    "alexnet.classifier[4] = nn.Linear(4096, 1024)\n",
    "alexnet.classifier[6] = nn.Linear(1024, len(expressions))\n",
    "device = torch.device('cuda:0' if torch.cuda.is_available() else 'cpu')\n",
    "alexnet.to(device)\n",
    "\n",
    "# optimizer = optim.Adam(alexnet.parameters(), lr=0.001)\n",
    "optimizer = torch.optim.SGD(alexnet.parameters(), lr=0.001, weight_decay = 0.005, momentum = 0.9)  \n",
    "\n",
    "total_step = len(train_loader)\n",
    "\n",
    "loss_arr = train(alexnet, optimizer, loss_fn, 120)"
   ]
  },
  {
   "cell_type": "code",
   "execution_count": 51,
   "metadata": {},
   "outputs": [
    {
     "data": {
      "text/plain": [
       "[<matplotlib.lines.Line2D at 0x1f803323eb0>]"
      ]
     },
     "execution_count": 51,
     "metadata": {},
     "output_type": "execute_result"
    },
    {
     "data": {
      "image/png": "[encoded data removed]",
      "text/plain": [
       "<Figure size 432x288 with 1 Axes>"
      ]
     },
     "metadata": {
      "needs_background": "light"
     },
     "output_type": "display_data"
    }
   ],
   "source": [
    "plt.plot(loss_arr)"
   ]
  },
  {
   "cell_type": "code",
   "execution_count": 54,
   "metadata": {},
   "outputs": [
    {
     "data": {
      "image/png": "[encoded data removed]",
      "text/plain": [
       "<Figure size 432x288 with 1 Axes>"
      ]
     },
     "metadata": {
      "needs_background": "light"
     },
     "output_type": "display_data"
    },
    {
     "name": "stdout",
     "output_type": "stream",
     "text": [
      "Sensitivity\n",
      "43.21\n",
      "Specificity\n",
      "90.54\n",
      "F1-score\n",
      "42.46\n",
      "Accuracy\n",
      "43.21\n"
     ]
    }
   ],
   "source": [
    "torch.manual_seed(3)\n",
    "test(alexnet)"
   ]
  },
  {
   "cell_type": "markdown",
   "metadata": {},
   "source": [
    "## VGG19"
   ]
  },
  {
   "cell_type": "code",
   "execution_count": 55,
   "metadata": {},
   "outputs": [],
   "source": [
    "x = list_img_224\n",
    "x_train, x_test, y_train, y_test = train_test_split(x, y, test_size=0.2, stratify=y)\n",
    "\n",
    "tensor_y_train = torch.as_tensor(y_train)\n",
    "tensor_y_test = torch.as_tensor(y_test)\n",
    "\n",
    "batch_size = 64\n",
    "data_train = MyDataset(x_train, tensor_y_train)\n",
    "data_test = MyDataset(x_test, tensor_y_test)\n",
    "train_loader = DataLoader(dataset=data_train, batch_size=batch_size, shuffle=True)\n",
    "test_loader = DataLoader(dataset=data_test, batch_size=batch_size, shuffle=False)"
   ]
  },
  {
   "cell_type": "code",
   "execution_count": null,
   "metadata": {},
   "outputs": [],
   "source": [
    "vgg19 = torchvision.models.vgg19(pretrained=True)\n",
    "for e in vgg19.parameters():\n",
    "   e.requires_grad = False\n",
    "vgg19.classifier[3] = nn.Linear(4096, 1024)\n",
    "vgg19.classifier[6] = nn.Linear(1024, len(expressions))\n",
    "device = torch.device('cuda:0' if torch.cuda.is_available() else 'cpu')\n",
    "vgg19.to(device)\n",
    "\n",
    "optimizer = optim.Adam(vgg19.parameters(), lr=0.001)\n",
    "# optimizer = optim.SGD(model.parameters(), lr=0.001)\n",
    "# optimizer = torch.optim.SGD(alexnet.parameters(), lr=0.001, weight_decay = 0.005, momentum = 0.9)  \n",
    "\n",
    "total_step = len(train_loader)\n",
    "\n",
    "loss_arr = train(vgg19, optimizer, loss_fn, 20)"
   ]
  },
  {
   "cell_type": "code",
   "execution_count": 60,
   "metadata": {},
   "outputs": [
    {
     "data": {
      "text/plain": [
       "[<matplotlib.lines.Line2D at 0x1f80ffd4940>]"
      ]
     },
     "execution_count": 60,
     "metadata": {},
     "output_type": "execute_result"
    },
    {
     "data": {
      "image/png": "[encoded data removed]",
      "text/plain": [
       "<Figure size 432x288 with 1 Axes>"
      ]
     },
     "metadata": {
      "needs_background": "light"
     },
     "output_type": "display_data"
    }
   ],
   "source": [
    "plt.plot(loss_arr)"
   ]
  },
  {
   "cell_type": "code",
   "execution_count": 61,
   "metadata": {},
   "outputs": [
    {
     "data": {
      "image/png": "[encoded data removed]",
      "text/plain": [
       "<Figure size 432x288 with 1 Axes>"
      ]
     },
     "metadata": {
      "needs_background": "light"
     },
     "output_type": "display_data"
    },
    {
     "name": "stdout",
     "output_type": "stream",
     "text": [
      "Sensitivity\n",
      "38.21\n",
      "Specificity\n",
      "89.7\n",
      "F1-score\n",
      "36.92\n",
      "Accuracy\n",
      "38.21\n"
     ]
    }
   ],
   "source": [
    "torch.manual_seed(0)\n",
    "test(vgg19)"
   ]
  },
  {
   "cell_type": "markdown",
   "metadata": {},
   "source": [
    "## Resnet50"
   ]
  },
  {
   "cell_type": "code",
   "execution_count": 84,
   "metadata": {},
   "outputs": [],
   "source": [
    "x = list_img_224\n",
    "x_train, x_test, y_train, y_test = train_test_split(x, y, test_size=0.2, stratify=y)\n",
    "\n",
    "tensor_y_train = torch.as_tensor(y_train)\n",
    "tensor_y_test = torch.as_tensor(y_test)\n",
    "\n",
    "batch_size = 64\n",
    "data_train = MyDataset(x_train, tensor_y_train)\n",
    "data_test = MyDataset(x_test, tensor_y_test)\n",
    "train_loader = DataLoader(dataset=data_train, batch_size=batch_size, shuffle=True)\n",
    "test_loader = DataLoader(dataset=data_test, batch_size=batch_size, shuffle=False)"
   ]
  },
  {
   "cell_type": "code",
   "execution_count": 86,
   "metadata": {},
   "outputs": [
    {
     "name": "stdout",
     "output_type": "stream",
     "text": [
      "Epoch [1/100], Loss: 1.9491\n",
      "Epoch [2/100], Loss: 1.9585\n",
      "Epoch [3/100], Loss: 1.9418\n",
      "Epoch [4/100], Loss: 1.9240\n",
      "Epoch [5/100], Loss: 1.9381\n",
      "Epoch [6/100], Loss: 1.9514\n",
      "Epoch [7/100], Loss: 1.9663\n",
      "Epoch [8/100], Loss: 1.9399\n",
      "Epoch [9/100], Loss: 1.9226\n",
      "Epoch [10/100], Loss: 1.9368\n",
      "Epoch [11/100], Loss: 1.9360\n",
      "Epoch [12/100], Loss: 1.9202\n",
      "Epoch [13/100], Loss: 1.9388\n",
      "Epoch [14/100], Loss: 1.9385\n",
      "Epoch [15/100], Loss: 1.9585\n",
      "Epoch [16/100], Loss: 1.9264\n",
      "Epoch [17/100], Loss: 1.9676\n",
      "Epoch [18/100], Loss: 1.9310\n",
      "Epoch [19/100], Loss: 1.9364\n",
      "Epoch [20/100], Loss: 1.9295\n",
      "Epoch [21/100], Loss: 1.9253\n",
      "Epoch [22/100], Loss: 1.9132\n",
      "Epoch [23/100], Loss: 1.9060\n",
      "Epoch [24/100], Loss: 1.9340\n",
      "Epoch [25/100], Loss: 1.8983\n",
      "Epoch [26/100], Loss: 1.8741\n",
      "Epoch [27/100], Loss: 1.8984\n",
      "Epoch [28/100], Loss: 1.9023\n",
      "Epoch [29/100], Loss: 1.8985\n",
      "Epoch [30/100], Loss: 1.9245\n",
      "Epoch [31/100], Loss: 1.8880\n",
      "Epoch [32/100], Loss: 1.8732\n",
      "Epoch [33/100], Loss: 1.8805\n",
      "Epoch [34/100], Loss: 1.8936\n",
      "Epoch [35/100], Loss: 1.9251\n",
      "Epoch [36/100], Loss: 1.9003\n",
      "Epoch [37/100], Loss: 1.8719\n",
      "Epoch [38/100], Loss: 1.8707\n",
      "Epoch [39/100], Loss: 1.8484\n",
      "Epoch [40/100], Loss: 1.8678\n",
      "Epoch [41/100], Loss: 1.8171\n",
      "Epoch [42/100], Loss: 1.7931\n",
      "Epoch [43/100], Loss: 1.8090\n",
      "Epoch [44/100], Loss: 1.8767\n",
      "Epoch [45/100], Loss: 1.8010\n",
      "Epoch [46/100], Loss: 1.7968\n",
      "Epoch [47/100], Loss: 1.8102\n",
      "Epoch [48/100], Loss: 1.8252\n",
      "Epoch [49/100], Loss: 1.7749\n",
      "Epoch [50/100], Loss: 1.7425\n",
      "Epoch [51/100], Loss: 1.7317\n",
      "Epoch [52/100], Loss: 1.8016\n",
      "Epoch [53/100], Loss: 1.7054\n",
      "Epoch [54/100], Loss: 1.7656\n",
      "Epoch [55/100], Loss: 1.7215\n",
      "Epoch [56/100], Loss: 1.7970\n",
      "Epoch [57/100], Loss: 1.6320\n",
      "Epoch [58/100], Loss: 1.6687\n",
      "Epoch [59/100], Loss: 1.7549\n",
      "Epoch [60/100], Loss: 1.6987\n",
      "Epoch [61/100], Loss: 1.7026\n",
      "Epoch [62/100], Loss: 1.7804\n",
      "Epoch [63/100], Loss: 1.7719\n",
      "Epoch [64/100], Loss: 1.7977\n",
      "Epoch [65/100], Loss: 1.7543\n",
      "Epoch [66/100], Loss: 1.7307\n",
      "Epoch [67/100], Loss: 1.6076\n",
      "Epoch [68/100], Loss: 1.7897\n",
      "Epoch [69/100], Loss: 1.6206\n",
      "Epoch [70/100], Loss: 1.5575\n",
      "Epoch [71/100], Loss: 1.7124\n",
      "Epoch [72/100], Loss: 1.5417\n",
      "Epoch [73/100], Loss: 1.7426\n",
      "Epoch [74/100], Loss: 1.5234\n",
      "Epoch [75/100], Loss: 1.8437\n",
      "Epoch [76/100], Loss: 1.6986\n",
      "Epoch [77/100], Loss: 1.5743\n",
      "Epoch [78/100], Loss: 1.5288\n",
      "Epoch [79/100], Loss: 1.6972\n",
      "Epoch [80/100], Loss: 1.8080\n",
      "Epoch [81/100], Loss: 1.5330\n",
      "Epoch [82/100], Loss: 1.6543\n",
      "Epoch [83/100], Loss: 1.5790\n",
      "Epoch [84/100], Loss: 1.7223\n",
      "Epoch [85/100], Loss: 1.5088\n",
      "Epoch [86/100], Loss: 1.7195\n",
      "Epoch [87/100], Loss: 1.4759\n",
      "Epoch [88/100], Loss: 1.7074\n",
      "Epoch [89/100], Loss: 1.6361\n",
      "Epoch [90/100], Loss: 1.4941\n",
      "Epoch [91/100], Loss: 1.5520\n",
      "Epoch [92/100], Loss: 1.3842\n",
      "Epoch [93/100], Loss: 1.6438\n",
      "Epoch [94/100], Loss: 1.5001\n",
      "Epoch [95/100], Loss: 1.7640\n",
      "Epoch [96/100], Loss: 1.5522\n",
      "Epoch [97/100], Loss: 1.4337\n",
      "Epoch [98/100], Loss: 1.3584\n",
      "Epoch [99/100], Loss: 1.7361\n",
      "Epoch [100/100], Loss: 1.7025\n",
      "Finished training trainset in 373.99 seconds\n"
     ]
    }
   ],
   "source": [
    "resnet50 = torchvision.models.resnet50(pretrained=True)\n",
    "for e in resnet50.parameters():\n",
    "   e.requires_grad = False\n",
    "device = torch.device('cuda:0' if torch.cuda.is_available() else 'cpu')\n",
    "# resnet50.fc = nn.Linear(in_features=2048, out_features=len(expressions), bias=True)\n",
    "resnet50.fc = nn.Sequential(\n",
    "         nn.Linear(2048, 1024),\n",
    "         nn.ReLU(inplace=True),\n",
    "         nn.Linear(1024, len(expressions)),\n",
    ")\n",
    "resnet50.to(device)\n",
    "# Adaptar el classifier a las clases\n",
    "optimizer = optim.Adam(resnet50.parameters(), lr=3e-4)\n",
    "# optimizer = torch.optim.SGD(resnet50.parameters(), lr=0.01, weight_decay = 0.005, momentum = 0.9)  \n",
    "total_step = len(train_loader)\n",
    "loss_arr = train(resnet50, optimizer, loss_fn, 120)"
   ]
  },
  {
   "cell_type": "code",
   "execution_count": 87,
   "metadata": {},
   "outputs": [
    {
     "data": {
      "text/plain": [
       "[<matplotlib.lines.Line2D at 0x18bf8f0b7c0>]"
      ]
     },
     "execution_count": 87,
     "metadata": {},
     "output_type": "execute_result"
    },
    {
     "data": {
      "image/png": "[encoded data removed]",
      "text/plain": [
       "<Figure size 432x288 with 1 Axes>"
      ]
     },
     "metadata": {
      "needs_background": "light"
     },
     "output_type": "display_data"
    }
   ],
   "source": [
    "plt.plot(loss_arr)"
   ]
  },
  {
   "cell_type": "code",
   "execution_count": 88,
   "metadata": {},
   "outputs": [
    {
     "data": {
      "image/png": "[encoded data removed]",
      "text/plain": [
       "<Figure size 432x288 with 1 Axes>"
      ]
     },
     "metadata": {
      "needs_background": "light"
     },
     "output_type": "display_data"
    },
    {
     "name": "stdout",
     "output_type": "stream",
     "text": [
      "Sensitivity\n",
      "30.0\n",
      "Specificity\n",
      "88.33\n",
      "F1-score\n",
      "28.21\n",
      "Accuracy\n",
      "30.0\n"
     ]
    }
   ],
   "source": [
    "torch.manual_seed(0)\n",
    "test(resnet50)"
   ]
  },
  {
   "cell_type": "markdown",
   "metadata": {},
   "source": [
    "## Resnet101"
   ]
  },
  {
   "cell_type": "code",
   "execution_count": 35,
   "metadata": {},
   "outputs": [],
   "source": [
    "x = list_img_224\n",
    "x_train, x_test, y_train, y_test = train_test_split(x, y, test_size=0.2, stratify=y)\n",
    "\n",
    "tensor_y_train = torch.as_tensor(y_train)\n",
    "tensor_y_test = torch.as_tensor(y_test)\n",
    "\n",
    "batch_size = 64\n",
    "data_train = MyDataset(x_train, tensor_y_train)\n",
    "data_test = MyDataset(x_test, tensor_y_test)\n",
    "train_loader = DataLoader(dataset=data_train, batch_size=batch_size, shuffle=True)\n",
    "test_loader = DataLoader(dataset=data_test, batch_size=batch_size, shuffle=False)"
   ]
  },
  {
   "cell_type": "code",
   "execution_count": 42,
   "metadata": {},
   "outputs": [
    {
     "name": "stderr",
     "output_type": "stream",
     "text": [
      "c:\\Users\\Diego\\AppData\\Local\\Programs\\Python\\Python310\\lib\\site-packages\\torchvision\\models\\_utils.py:208: UserWarning: The parameter 'pretrained' is deprecated since 0.13 and will be removed in 0.15, please use 'weights' instead.\n",
      "  warnings.warn(\n",
      "c:\\Users\\Diego\\AppData\\Local\\Programs\\Python\\Python310\\lib\\site-packages\\torchvision\\models\\_utils.py:223: UserWarning: Arguments other than a weight enum or `None` for 'weights' are deprecated since 0.13 and will be removed in 0.15. The current behavior is equivalent to passing `weights=ResNet101_Weights.IMAGENET1K_V1`. You can also use `weights=ResNet101_Weights.DEFAULT` to get the most up-to-date weights.\n",
      "  warnings.warn(msg)\n"
     ]
    },
    {
     "name": "stdout",
     "output_type": "stream",
     "text": [
      "Epoch [1/50], Loss: 1.9346\n",
      "Epoch [2/50], Loss: 1.8626\n",
      "Epoch [3/50], Loss: 1.7572\n",
      "Epoch [4/50], Loss: 1.6534\n",
      "Epoch [5/50], Loss: 1.5173\n",
      "Epoch [6/50], Loss: 1.4860\n",
      "Epoch [7/50], Loss: 1.4564\n",
      "Epoch [8/50], Loss: 1.5093\n",
      "Epoch [9/50], Loss: 1.3891\n",
      "Epoch [10/50], Loss: 1.4986\n",
      "Epoch [11/50], Loss: 1.4144\n",
      "Epoch [12/50], Loss: 1.1623\n",
      "Epoch [13/50], Loss: 1.1864\n",
      "Epoch [14/50], Loss: 1.5439\n",
      "Epoch [15/50], Loss: 1.4630\n",
      "Epoch [16/50], Loss: 1.3522\n",
      "Epoch [17/50], Loss: 1.0770\n",
      "Epoch [18/50], Loss: 1.2917\n",
      "Epoch [19/50], Loss: 1.0969\n",
      "Epoch [20/50], Loss: 1.1728\n",
      "Epoch [21/50], Loss: 0.7609\n",
      "Epoch [22/50], Loss: 0.9345\n",
      "Epoch [23/50], Loss: 1.0111\n",
      "Epoch [24/50], Loss: 0.9445\n",
      "Epoch [25/50], Loss: 1.1058\n",
      "Epoch [26/50], Loss: 1.0222\n",
      "Epoch [27/50], Loss: 1.2445\n",
      "Epoch [28/50], Loss: 0.8160\n",
      "Epoch [29/50], Loss: 1.0716\n",
      "Epoch [30/50], Loss: 0.9277\n",
      "Epoch [31/50], Loss: 0.8922\n",
      "Epoch [32/50], Loss: 1.1352\n",
      "Epoch [33/50], Loss: 0.8353\n",
      "Epoch [34/50], Loss: 0.9232\n",
      "Epoch [35/50], Loss: 0.9928\n",
      "Epoch [36/50], Loss: 1.0682\n",
      "Epoch [37/50], Loss: 0.8739\n",
      "Epoch [38/50], Loss: 1.0547\n",
      "Epoch [39/50], Loss: 1.0210\n",
      "Epoch [40/50], Loss: 0.6578\n",
      "Epoch [41/50], Loss: 0.7638\n",
      "Epoch [42/50], Loss: 0.6896\n",
      "Epoch [43/50], Loss: 1.0262\n",
      "Epoch [44/50], Loss: 0.8904\n",
      "Epoch [45/50], Loss: 0.6751\n",
      "Epoch [46/50], Loss: 0.9040\n",
      "Epoch [47/50], Loss: 0.6457\n",
      "Epoch [48/50], Loss: 0.9567\n",
      "Epoch [49/50], Loss: 0.7717\n",
      "Epoch [50/50], Loss: 0.7482\n",
      "Finished training trainset in 311.95 seconds\n"
     ]
    }
   ],
   "source": [
    "resnet101 = torchvision.models.resnet101(pretrained=True)\n",
    "for e in resnet101.parameters():\n",
    "   e.requires_grad = False\n",
    "device = torch.device('cuda:0' if torch.cuda.is_available() else 'cpu')\n",
    "# resnet101.fc = nn.Linear(in_features=2048, out_features=len(expressions), bias=True)\n",
    "resnet101.fc = nn.Sequential(\n",
    "         nn.Linear(2048, 1024),\n",
    "         nn.ReLU(inplace=True),\n",
    "         nn.Linear(1024, len(expressions)),\n",
    ")\n",
    "resnet101.to(device)\n",
    "# resnet101\n",
    "# Adaptar el classifier a las clases\n",
    "optimizer = optim.Adam(resnet101.parameters(), lr=3e-4)\n",
    "# optimizer = optim.SGD(resnet101.parameters(), lr=0.005, weight_decay=0.005, momentum=0.9)\n",
    "total_step = len(train_loader)\n",
    "loss_arr = train(resnet101, optimizer, loss_fn, 50)"
   ]
  },
  {
   "cell_type": "code",
   "execution_count": 43,
   "metadata": {},
   "outputs": [
    {
     "data": {
      "text/plain": [
       "[<matplotlib.lines.Line2D at 0x18be4d4d540>]"
      ]
     },
     "execution_count": 43,
     "metadata": {},
     "output_type": "execute_result"
    },
    {
     "data": {
      "image/png": "[encoded data removed]",
      "text/plain": [
       "<Figure size 432x288 with 1 Axes>"
      ]
     },
     "metadata": {
      "needs_background": "light"
     },
     "output_type": "display_data"
    }
   ],
   "source": [
    "plt.plot(loss_arr)"
   ]
  },
  {
   "cell_type": "code",
   "execution_count": 48,
   "metadata": {},
   "outputs": [
    {
     "data": {
      "image/png": "[encoded data removed]",
      "text/plain": [
       "<Figure size 432x288 with 1 Axes>"
      ]
     },
     "metadata": {
      "needs_background": "light"
     },
     "output_type": "display_data"
    },
    {
     "name": "stdout",
     "output_type": "stream",
     "text": [
      "Sensitivity\n",
      "33.57\n",
      "Specificity\n",
      "88.93\n",
      "F1-score\n",
      "32.69\n",
      "Accuracy\n",
      "33.57\n"
     ]
    }
   ],
   "source": [
    "torch.manual_seed(0)\n",
    "test(resnet101)"
   ]
  }
 ],
 "metadata": {
  "deepnote": {},
  "deepnote_execution_queue": [],
  "deepnote_notebook_id": "8b8c828f-a846-408d-b3a9-ab3275e50df9",
  "kernelspec": {
   "display_name": "Python 3.10.2 64-bit",
   "language": "python",
   "name": "python3"
  },
  "language_info": {
   "codemirror_mode": {
    "name": "ipython",
    "version": 3
   },
   "file_extension": ".py",
   "mimetype": "text/x-python",
   "name": "python",
   "nbconvert_exporter": "python",
   "pygments_lexer": "ipython3",
   "version": "3.10.2"
  },
  "orig_nbformat": 2,
  "vscode": {
   "interpreter": {
    "hash": "341268af697f69dd1ffdcdac7af840419ecb88f390bc16e46c3586102df69d04"
   }
  }
 },
 "nbformat": 4,
 "nbformat_minor": 2
}
